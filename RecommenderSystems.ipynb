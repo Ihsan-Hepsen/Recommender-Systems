{
 "cells": [
  {
   "cell_type": "markdown",
   "source": [
    "# Recommender Systems"
   ],
   "metadata": {
    "collapsed": false
   }
  },
  {
   "cell_type": "markdown",
   "source": [
    "## Recommending Video Games using Content-Based Recommendation"
   ],
   "metadata": {
    "collapsed": false
   }
  },
  {
   "cell_type": "markdown",
   "source": [
    "### Student Info\n",
    "- **Student name:** Ihsan Hepsen\n",
    "- **Student ID:** 0145029-14\n",
    "- **Student email:** ihsan.hepsen@student.kdg.be"
   ],
   "metadata": {
    "collapsed": false
   }
  },
  {
   "cell_type": "markdown",
   "source": [
    "## Objective\n",
    "- Objective of this notebook is building a content-based recommender system using Steam's video game dataset which is available on kaggle.com. I will make recommendations for a couple of games after building the recommender system.\n",
    "\n",
    "### What are Recommender Systems?\n",
    "- A recommender system is a subclass of information filtering system that seeks to predict the \"rating\" or \"preference\" a user would give to an item.\n",
    "- Recommender systems are utilized in a variety of areas, but are most commonly recognized as playlist generators for video and music services, product recommenders for online stores, or content recommenders for social media platforms.\n",
    "- There are different approaches to building recommender systems, including collaborative filtering, content-based filtering, and hybrid methods (combination of collaborative filtering and content-based filtering).\n",
    "\n",
    "### What does \"collaborative filtering\" mean?\n",
    "- Collaborative filtering relies on the past behavior and similarities among users when making the recommendations.\n",
    "\n",
    "### What does \"content-based\" mean?\n",
    "- Content-based recommendation is based on the descriptive features of the content when making the recommendations. Here are some descriptive features:\n",
    "    * Content descriptions.\n",
    "    * Content overviews.\n",
    "    * Content tags or labels.\n",
    "- These are just a few examples that can be used for content-based recommendation systems.\n",
    "- For example, a recommendation system for books might use the title, author, and description of each book as features, and use this information to recommend books to users based on their reading preferences.\n",
    "- In this notebook I will use tags and game description as descriptive features."
   ],
   "metadata": {
    "collapsed": false
   }
  },
  {
   "cell_type": "markdown",
   "source": [
    "### Imports\n",
    "- Down below, you will find all the necessary package and library imports for this notebook."
   ],
   "metadata": {
    "collapsed": false
   }
  },
  {
   "cell_type": "code",
   "execution_count": 19,
   "outputs": [],
   "source": [
    "import re\n",
    "\n",
    "import pandas as pd\n",
    "from sklearn.feature_extraction.text import TfidfVectorizer\n",
    "from sklearn.metrics.pairwise import linear_kernel"
   ],
   "metadata": {
    "collapsed": false
   }
  },
  {
   "cell_type": "markdown",
   "source": [
    "## Importing the dataset\n",
    "- As mentioned earlier, I will be using Steam game dataset to build my recommender system. I will be applying content-based approach because I think recommending similar games based on the game's descriptive features is more effective and the user is more likely to play those recommended games.\n",
    "- I will extract the rating percentage from `all_reviews` column and filter out the games rated lower than 55%.\n",
    "    * **Please Note:** This filtering is a personal choice. Recommender system to be built will work the same if you skip this part. Main reason for this filtering is to still have good-rated video games to recommend to a user."
   ],
   "metadata": {
    "collapsed": false
   }
  },
  {
   "cell_type": "code",
   "execution_count": 1,
   "metadata": {
    "collapsed": true
   },
   "outputs": [],
   "source": [
    "df = pd.read_csv('data/steam_games.csv')"
   ]
  },
  {
   "cell_type": "markdown",
   "source": [
    "##### Filtering games rated lower than 55%."
   ],
   "metadata": {
    "collapsed": false
   }
  },
  {
   "cell_type": "code",
   "execution_count": 53,
   "outputs": [],
   "source": [
    "pattern = '(\\d{1,2})%'\n",
    "\n",
    "df['rating_percentage'] = None\n",
    "\n",
    "for index, row in df.iterrows():\n",
    "    rating_str = str(row['all_reviews'])\n",
    "    rating_match = re.search(pattern, rating_str)\n",
    "    if rating_match:\n",
    "        rating_percentage = float(rating_match.group(1))\n",
    "        df.at[index, 'rating_percentage'] = rating_percentage\n",
    "\n",
    "# Filter the dataframe to only include rows where the rating is at least 55%\n",
    "filtered = df[df['rating_percentage'] >= 55]"
   ],
   "metadata": {
    "collapsed": false
   }
  },
  {
   "cell_type": "markdown",
   "source": [
    "- Let's have a look at the data"
   ],
   "metadata": {
    "collapsed": false
   }
  },
  {
   "cell_type": "code",
   "execution_count": 55,
   "outputs": [
    {
     "data": {
      "text/plain": "                                                 url types             name  \\\n0    https://store.steampowered.com/app/379720/DOOM/   app             DOOM   \n2  https://store.steampowered.com/app/637090/BATT...   app       BATTLETECH   \n3    https://store.steampowered.com/app/221100/DayZ/   app             DayZ   \n4  https://store.steampowered.com/app/8500/EVE_On...   app       EVE Online   \n6  https://store.steampowered.com/app/601150/Devi...   app  Devil May Cry 5   \n\n                                        desc_snippet  \\\n0  Now includes all three premium DLC packs (Unto...   \n2  Take command of your own mercenary outfit of '...   \n3  The post-soviet country of Chernarus is struck...   \n4  EVE Online is a community-driven spaceship MMO...   \n6  The ultimate Devil Hunter is back in style, in...   \n\n                                      recent_reviews  \\\n0  Very Positive,(554),- 89% of the 554 user revi...   \n2  Mixed,(166),- 54% of the 166 user reviews in t...   \n3  Mixed,(932),- 57% of the 932 user reviews in t...   \n4  Mixed,(287),- 54% of the 287 user reviews in t...   \n6  Very Positive,(408),- 87% of the 408 user revi...   \n\n                                         all_reviews  release_date  \\\n0  Very Positive,(42,550),- 92% of the 42,550 use...  May 12, 2016   \n2  Mostly Positive,(7,030),- 71% of the 7,030 use...  Apr 24, 2018   \n3  Mixed,(167,115),- 61% of the 167,115 user revi...  Dec 13, 2018   \n4  Mostly Positive,(11,481),- 74% of the 11,481 u...   May 6, 2003   \n6  Very Positive,(9,645),- 92% of the 9,645 user ...   Mar 7, 2019   \n\n             developer                                publisher  \\\n0          id Software    Bethesda Softworks,Bethesda Softworks   \n2  Harebrained Schemes  Paradox Interactive,Paradox Interactive   \n3  Bohemia Interactive  Bohemia Interactive,Bohemia Interactive   \n4                  CCP                                  CCP,CCP   \n6     CAPCOM Co., Ltd.        CAPCOM Co., Ltd.,CAPCOM Co., Ltd.   \n\n                                        popular_tags  ...  \\\n0  FPS,Gore,Action,Demons,Shooter,First-Person,Gr...  ...   \n2  Mechs,Strategy,Turn-Based,Turn-Based Tactics,S...  ...   \n3  Survival,Zombies,Open World,Multiplayer,PvP,Ma...  ...   \n4  Space,Massively Multiplayer,Sci-fi,Sandbox,MMO...  ...   \n6  Action,Hack and Slash,Great Soundtrack,Demons,...  ...   \n\n                                           languages achievements  \\\n0  English,French,Italian,German,Spanish - Spain,...         54.0   \n2                      English,French,German,Russian        128.0   \n3  English,French,Italian,German,Spanish - Spain,...          NaN   \n4                      English,German,Russian,French          NaN   \n6  English,French,Italian,German,Spanish - Spain,...         51.0   \n\n                                               genre  \\\n0                                             Action   \n2                          Action,Adventure,Strategy   \n3             Action,Adventure,Massively Multiplayer   \n4  Action,Free to Play,Massively Multiplayer,RPG,...   \n6                                             Action   \n\n                                    game_description  \\\n0   About This Game Developed by id software, the...   \n2   About This Game  From original BATTLETECH/Mec...   \n3   About This Game The post-soviet country of Ch...   \n4                                  About This Game     \n6   About This Game The Devil you know returns in...   \n\n                                      mature_content  \\\n0                                                NaN   \n2                                                NaN   \n3                                                NaN   \n4                                                NaN   \n6   Mature Content Description  The developers de...   \n\n                                minimum_requirements  \\\n0  Minimum:,OS:,Windows 7/8.1/10 (64-bit versions...   \n2  Minimum:,Requires a 64-bit processor and opera...   \n3  Minimum:,OS:,Windows 7/8.1 64-bit,Processor:,I...   \n4  Minimum:,OS:,Windows 7,Processor:,Intel Dual C...   \n6  Minimum:,OS:,WINDOWS® 7, 8.1, 10 (64-BIT Requi...   \n\n                            recommended_requirements original_price  \\\n0  Recommended:,OS:,Windows 7/8.1/10 (64-bit vers...         $19.99   \n2  Recommended:,Requires a 64-bit processor and o...         $39.99   \n3  Recommended:,OS:,Windows 10 64-bit,Processor:,...         $44.99   \n4  Recommended:,OS:,Windows 10,Processor:,Intel i...           Free   \n6  Recommended:,OS:,WINDOWS® 7, 8.1, 10 (64-BIT R...         $59.99   \n\n  discount_price rating_percentage  \n0         $14.99              92.0  \n2            NaN              71.0  \n3            NaN              61.0  \n4            NaN              74.0  \n6         $70.42              92.0  \n\n[5 rows x 21 columns]",
      "text/html": "<div>\n<style scoped>\n    .dataframe tbody tr th:only-of-type {\n        vertical-align: middle;\n    }\n\n    .dataframe tbody tr th {\n        vertical-align: top;\n    }\n\n    .dataframe thead th {\n        text-align: right;\n    }\n</style>\n<table border=\"1\" class=\"dataframe\">\n  <thead>\n    <tr style=\"text-align: right;\">\n      <th></th>\n      <th>url</th>\n      <th>types</th>\n      <th>name</th>\n      <th>desc_snippet</th>\n      <th>recent_reviews</th>\n      <th>all_reviews</th>\n      <th>release_date</th>\n      <th>developer</th>\n      <th>publisher</th>\n      <th>popular_tags</th>\n      <th>...</th>\n      <th>languages</th>\n      <th>achievements</th>\n      <th>genre</th>\n      <th>game_description</th>\n      <th>mature_content</th>\n      <th>minimum_requirements</th>\n      <th>recommended_requirements</th>\n      <th>original_price</th>\n      <th>discount_price</th>\n      <th>rating_percentage</th>\n    </tr>\n  </thead>\n  <tbody>\n    <tr>\n      <th>0</th>\n      <td>https://store.steampowered.com/app/379720/DOOM/</td>\n      <td>app</td>\n      <td>DOOM</td>\n      <td>Now includes all three premium DLC packs (Unto...</td>\n      <td>Very Positive,(554),- 89% of the 554 user revi...</td>\n      <td>Very Positive,(42,550),- 92% of the 42,550 use...</td>\n      <td>May 12, 2016</td>\n      <td>id Software</td>\n      <td>Bethesda Softworks,Bethesda Softworks</td>\n      <td>FPS,Gore,Action,Demons,Shooter,First-Person,Gr...</td>\n      <td>...</td>\n      <td>English,French,Italian,German,Spanish - Spain,...</td>\n      <td>54.0</td>\n      <td>Action</td>\n      <td>About This Game Developed by id software, the...</td>\n      <td>NaN</td>\n      <td>Minimum:,OS:,Windows 7/8.1/10 (64-bit versions...</td>\n      <td>Recommended:,OS:,Windows 7/8.1/10 (64-bit vers...</td>\n      <td>$19.99</td>\n      <td>$14.99</td>\n      <td>92.0</td>\n    </tr>\n    <tr>\n      <th>2</th>\n      <td>https://store.steampowered.com/app/637090/BATT...</td>\n      <td>app</td>\n      <td>BATTLETECH</td>\n      <td>Take command of your own mercenary outfit of '...</td>\n      <td>Mixed,(166),- 54% of the 166 user reviews in t...</td>\n      <td>Mostly Positive,(7,030),- 71% of the 7,030 use...</td>\n      <td>Apr 24, 2018</td>\n      <td>Harebrained Schemes</td>\n      <td>Paradox Interactive,Paradox Interactive</td>\n      <td>Mechs,Strategy,Turn-Based,Turn-Based Tactics,S...</td>\n      <td>...</td>\n      <td>English,French,German,Russian</td>\n      <td>128.0</td>\n      <td>Action,Adventure,Strategy</td>\n      <td>About This Game  From original BATTLETECH/Mec...</td>\n      <td>NaN</td>\n      <td>Minimum:,Requires a 64-bit processor and opera...</td>\n      <td>Recommended:,Requires a 64-bit processor and o...</td>\n      <td>$39.99</td>\n      <td>NaN</td>\n      <td>71.0</td>\n    </tr>\n    <tr>\n      <th>3</th>\n      <td>https://store.steampowered.com/app/221100/DayZ/</td>\n      <td>app</td>\n      <td>DayZ</td>\n      <td>The post-soviet country of Chernarus is struck...</td>\n      <td>Mixed,(932),- 57% of the 932 user reviews in t...</td>\n      <td>Mixed,(167,115),- 61% of the 167,115 user revi...</td>\n      <td>Dec 13, 2018</td>\n      <td>Bohemia Interactive</td>\n      <td>Bohemia Interactive,Bohemia Interactive</td>\n      <td>Survival,Zombies,Open World,Multiplayer,PvP,Ma...</td>\n      <td>...</td>\n      <td>English,French,Italian,German,Spanish - Spain,...</td>\n      <td>NaN</td>\n      <td>Action,Adventure,Massively Multiplayer</td>\n      <td>About This Game The post-soviet country of Ch...</td>\n      <td>NaN</td>\n      <td>Minimum:,OS:,Windows 7/8.1 64-bit,Processor:,I...</td>\n      <td>Recommended:,OS:,Windows 10 64-bit,Processor:,...</td>\n      <td>$44.99</td>\n      <td>NaN</td>\n      <td>61.0</td>\n    </tr>\n    <tr>\n      <th>4</th>\n      <td>https://store.steampowered.com/app/8500/EVE_On...</td>\n      <td>app</td>\n      <td>EVE Online</td>\n      <td>EVE Online is a community-driven spaceship MMO...</td>\n      <td>Mixed,(287),- 54% of the 287 user reviews in t...</td>\n      <td>Mostly Positive,(11,481),- 74% of the 11,481 u...</td>\n      <td>May 6, 2003</td>\n      <td>CCP</td>\n      <td>CCP,CCP</td>\n      <td>Space,Massively Multiplayer,Sci-fi,Sandbox,MMO...</td>\n      <td>...</td>\n      <td>English,German,Russian,French</td>\n      <td>NaN</td>\n      <td>Action,Free to Play,Massively Multiplayer,RPG,...</td>\n      <td>About This Game</td>\n      <td>NaN</td>\n      <td>Minimum:,OS:,Windows 7,Processor:,Intel Dual C...</td>\n      <td>Recommended:,OS:,Windows 10,Processor:,Intel i...</td>\n      <td>Free</td>\n      <td>NaN</td>\n      <td>74.0</td>\n    </tr>\n    <tr>\n      <th>6</th>\n      <td>https://store.steampowered.com/app/601150/Devi...</td>\n      <td>app</td>\n      <td>Devil May Cry 5</td>\n      <td>The ultimate Devil Hunter is back in style, in...</td>\n      <td>Very Positive,(408),- 87% of the 408 user revi...</td>\n      <td>Very Positive,(9,645),- 92% of the 9,645 user ...</td>\n      <td>Mar 7, 2019</td>\n      <td>CAPCOM Co., Ltd.</td>\n      <td>CAPCOM Co., Ltd.,CAPCOM Co., Ltd.</td>\n      <td>Action,Hack and Slash,Great Soundtrack,Demons,...</td>\n      <td>...</td>\n      <td>English,French,Italian,German,Spanish - Spain,...</td>\n      <td>51.0</td>\n      <td>Action</td>\n      <td>About This Game The Devil you know returns in...</td>\n      <td>Mature Content Description  The developers de...</td>\n      <td>Minimum:,OS:,WINDOWS® 7, 8.1, 10 (64-BIT Requi...</td>\n      <td>Recommended:,OS:,WINDOWS® 7, 8.1, 10 (64-BIT R...</td>\n      <td>$59.99</td>\n      <td>$70.42</td>\n      <td>92.0</td>\n    </tr>\n  </tbody>\n</table>\n<p>5 rows × 21 columns</p>\n</div>"
     },
     "execution_count": 55,
     "metadata": {},
     "output_type": "execute_result"
    }
   ],
   "source": [
    "filtered.head()"
   ],
   "metadata": {
    "collapsed": false
   }
  },
  {
   "cell_type": "markdown",
   "source": [
    "- Quick look on dataset columns."
   ],
   "metadata": {
    "collapsed": false
   }
  },
  {
   "cell_type": "code",
   "execution_count": 4,
   "outputs": [
    {
     "data": {
      "text/plain": "Index(['url', 'types', 'name', 'desc_snippet', 'recent_reviews', 'all_reviews',\n       'release_date', 'developer', 'publisher', 'popular_tags',\n       'game_details', 'languages', 'achievements', 'genre',\n       'game_description', 'mature_content', 'minimum_requirements',\n       'recommended_requirements', 'original_price', 'discount_price',\n       'rating_percentage'],\n      dtype='object')"
     },
     "execution_count": 4,
     "metadata": {},
     "output_type": "execute_result"
    }
   ],
   "source": [
    "filtered.columns"
   ],
   "metadata": {
    "collapsed": false
   }
  },
  {
   "cell_type": "markdown",
   "source": [
    "- Checking data frame size:"
   ],
   "metadata": {
    "collapsed": false
   }
  },
  {
   "cell_type": "code",
   "execution_count": 3,
   "outputs": [
    {
     "data": {
      "text/plain": "296121"
     },
     "execution_count": 3,
     "metadata": {},
     "output_type": "execute_result"
    }
   ],
   "source": [
    "filtered.size"
   ],
   "metadata": {
    "collapsed": false
   }
  },
  {
   "cell_type": "markdown",
   "source": [
    "- Missing value count:"
   ],
   "metadata": {
    "collapsed": false
   }
  },
  {
   "cell_type": "code",
   "execution_count": 6,
   "outputs": [
    {
     "data": {
      "text/plain": "url                             0\ntypes                           0\nname                            0\ndesc_snippet                 2132\nrecent_reviews              11550\nall_reviews                     0\nrelease_date                   39\ndeveloper                      54\npublisher                     537\npopular_tags                   13\ngame_details                  161\nlanguages                       1\nachievements                 6453\ngenre                          88\ngame_description               21\nmature_content              12847\nminimum_requirements         6226\nrecommended_requirements     6222\noriginal_price                305\ndiscount_price               8868\nrating_percentage               0\ndtype: int64"
     },
     "execution_count": 6,
     "metadata": {},
     "output_type": "execute_result"
    }
   ],
   "source": [
    "filtered.isna().sum()"
   ],
   "metadata": {
    "collapsed": false
   }
  },
  {
   "cell_type": "markdown",
   "source": [
    "## Preprocessing"
   ],
   "metadata": {
    "collapsed": false
   }
  },
  {
   "cell_type": "markdown",
   "source": [
    "- Previously in this notebook, I have had a quick look at the nan values. There are some columns that are unnecessary for my case.\n",
    "- Here are the unnecessary columns:\n",
    "    - `url`: website link.\n",
    "    - `types`: the only type is 'app'.\n",
    "    - `developer`: Developer of the game.\n",
    "    - `publisher`: Publisher of the game.\n",
    "- I call these column unnecessary as they do not provide useful information regarding content-based recommendation.\n",
    "- I will go ahead and drop all these columns.\n",
    "- I will not drop any missing values as it drastically reduces the number of video games I can use in my recommender system."
   ],
   "metadata": {
    "collapsed": false
   }
  },
  {
   "cell_type": "code",
   "execution_count": 10,
   "outputs": [],
   "source": [
    "cols_to_drop = ['url', 'types', 'developer', 'publisher']\n",
    "filtered = filtered.drop(cols_to_drop, axis=1)"
   ],
   "metadata": {
    "collapsed": false
   }
  },
  {
   "cell_type": "markdown",
   "source": [
    "## TF-IDF Model\n",
    "- In this part I will be building a TF-IDF model to use in the calculation of similarities between games.\n",
    "- What is TF-IDF?\n",
    "    - A statistical measure that evaluates how relevant a word is to a document in a collection of documents. It is often used as a weighting factor in information retrieval and text mining.\n",
    "    - Is a simple yet very effective measure of relevance.\n",
    "    - Product of two terms: the first computes the normalized Term Frequency (TF), aka. the number of times a word appears in a document, divided by the total number of words in that document; the second term is the Inverse Document Frequency (IDF), computed as the logarithm of the number of the documents in the corpus divided by the number of documents where the specific term appears.\n",
    "    - Tf-idf can be used to calculate the weights of the terms in the documents of a dataset, which can then be used to determine the similarity between the documents and make content-based recommendations.\n",
    "- As stated earlier, I am going to use `popular_tags` and `desc_snippet` (game description) columns to use in my content-based recommendations. I especially chose these 2 columns because they contain all the genres a game has and all the essential detail about the game. I think game description and popular tags on a video game will be quite useful when calculating video games' similarity to each other."
   ],
   "metadata": {
    "collapsed": false
   }
  },
  {
   "cell_type": "code",
   "execution_count": 11,
   "outputs": [
    {
     "name": "stdout",
     "output_type": "stream",
     "text": [
      "Matrix contains 14101 games and 8843 words\n"
     ]
    }
   ],
   "source": [
    "vectorizer = TfidfVectorizer(stop_words='english', max_df=0.9, min_df=3)\n",
    "\n",
    "filtered.popular_tags = filtered.popular_tags.fillna('')\n",
    "filtered.desc_snippet = filtered.desc_snippet.fillna('')\n",
    "\n",
    "# Concatenate the 'popular_tags' and 'desc_snippet' columns\n",
    "game_data = filtered.popular_tags + ' ' + filtered.desc_snippet\n",
    "\n",
    "# Create the tf-idf vector\n",
    "tfidf_model = vectorizer.fit_transform(game_data)\n",
    "print(f'Matrix contains {tfidf_model.shape[0]} games and {tfidf_model.shape[1]} words')"
   ],
   "metadata": {
    "collapsed": false
   }
  },
  {
   "cell_type": "markdown",
   "source": [
    "- Let's see what the TF-IDF looks like with the popular video game terms."
   ],
   "metadata": {
    "collapsed": false
   }
  },
  {
   "cell_type": "code",
   "execution_count": 12,
   "outputs": [
    {
     "data": {
      "text/plain": "        fps      gore   demons   shooter    person     great  soundtrack  \\\n0  0.098742  0.096923  0.15011  0.085884  0.079059  0.071825    0.072913   \n1  0.000000  0.000000  0.00000  0.000000  0.000000  0.081180    0.082410   \n2  0.097774  0.000000  0.00000  0.085042  0.000000  0.000000    0.000000   \n3  0.000000  0.000000  0.00000  0.000000  0.000000  0.000000    0.000000   \n4  0.000000  0.143897  0.22286  0.000000  0.117374  0.106635    0.108250   \n5  0.000000  0.000000  0.00000  0.000000  0.000000  0.000000    0.000000   \n6  0.000000  0.000000  0.00000  0.000000  0.000000  0.000000    0.000000   \n7  0.000000  0.000000  0.00000  0.000000  0.000000  0.000000    0.000000   \n8  0.000000  0.000000  0.00000  0.000000  0.000000  0.071775    0.072863   \n9  0.000000  0.000000  0.00000  0.000000  0.071745  0.000000    0.000000   \n\n   multiplayer  singleplayer      fast  ...  shelters  conservation  \\\n0     0.206851      0.055184  0.103062  ...       0.0           0.0   \n1     0.077931      0.062372  0.000000  ...       0.0           0.0   \n2     0.136549      0.000000  0.000000  ...       0.0           0.0   \n3     0.125680      0.000000  0.000000  ...       0.0           0.0   \n4     0.102367      0.081928  0.000000  ...       0.0           0.0   \n5     0.139139      0.055680  0.000000  ...       0.0           0.0   \n6     0.000000      0.048787  0.000000  ...       0.0           0.0   \n7     0.064851      0.000000  0.000000  ...       0.0           0.0   \n8     0.000000      0.055146  0.102990  ...       0.0           0.0   \n9     0.125144      0.000000  0.000000  ...       0.0           0.0   \n\n   fireflies  cavern  example  carriers  newspapers   ho  predict  reboot  \n0        0.0     0.0      0.0       0.0         0.0  0.0      0.0     0.0  \n1        0.0     0.0      0.0       0.0         0.0  0.0      0.0     0.0  \n2        0.0     0.0      0.0       0.0         0.0  0.0      0.0     0.0  \n3        0.0     0.0      0.0       0.0         0.0  0.0      0.0     0.0  \n4        0.0     0.0      0.0       0.0         0.0  0.0      0.0     0.0  \n5        0.0     0.0      0.0       0.0         0.0  0.0      0.0     0.0  \n6        0.0     0.0      0.0       0.0         0.0  0.0      0.0     0.0  \n7        0.0     0.0      0.0       0.0         0.0  0.0      0.0     0.0  \n8        0.0     0.0      0.0       0.0         0.0  0.0      0.0     0.0  \n9        0.0     0.0      0.0       0.0         0.0  0.0      0.0     0.0  \n\n[10 rows x 7842 columns]",
      "text/html": "<div>\n<style scoped>\n    .dataframe tbody tr th:only-of-type {\n        vertical-align: middle;\n    }\n\n    .dataframe tbody tr th {\n        vertical-align: top;\n    }\n\n    .dataframe thead th {\n        text-align: right;\n    }\n</style>\n<table border=\"1\" class=\"dataframe\">\n  <thead>\n    <tr style=\"text-align: right;\">\n      <th></th>\n      <th>fps</th>\n      <th>gore</th>\n      <th>demons</th>\n      <th>shooter</th>\n      <th>person</th>\n      <th>great</th>\n      <th>soundtrack</th>\n      <th>multiplayer</th>\n      <th>singleplayer</th>\n      <th>fast</th>\n      <th>...</th>\n      <th>shelters</th>\n      <th>conservation</th>\n      <th>fireflies</th>\n      <th>cavern</th>\n      <th>example</th>\n      <th>carriers</th>\n      <th>newspapers</th>\n      <th>ho</th>\n      <th>predict</th>\n      <th>reboot</th>\n    </tr>\n  </thead>\n  <tbody>\n    <tr>\n      <th>0</th>\n      <td>0.098742</td>\n      <td>0.096923</td>\n      <td>0.15011</td>\n      <td>0.085884</td>\n      <td>0.079059</td>\n      <td>0.071825</td>\n      <td>0.072913</td>\n      <td>0.206851</td>\n      <td>0.055184</td>\n      <td>0.103062</td>\n      <td>...</td>\n      <td>0.0</td>\n      <td>0.0</td>\n      <td>0.0</td>\n      <td>0.0</td>\n      <td>0.0</td>\n      <td>0.0</td>\n      <td>0.0</td>\n      <td>0.0</td>\n      <td>0.0</td>\n      <td>0.0</td>\n    </tr>\n    <tr>\n      <th>1</th>\n      <td>0.000000</td>\n      <td>0.000000</td>\n      <td>0.00000</td>\n      <td>0.000000</td>\n      <td>0.000000</td>\n      <td>0.081180</td>\n      <td>0.082410</td>\n      <td>0.077931</td>\n      <td>0.062372</td>\n      <td>0.000000</td>\n      <td>...</td>\n      <td>0.0</td>\n      <td>0.0</td>\n      <td>0.0</td>\n      <td>0.0</td>\n      <td>0.0</td>\n      <td>0.0</td>\n      <td>0.0</td>\n      <td>0.0</td>\n      <td>0.0</td>\n      <td>0.0</td>\n    </tr>\n    <tr>\n      <th>2</th>\n      <td>0.097774</td>\n      <td>0.000000</td>\n      <td>0.00000</td>\n      <td>0.085042</td>\n      <td>0.000000</td>\n      <td>0.000000</td>\n      <td>0.000000</td>\n      <td>0.136549</td>\n      <td>0.000000</td>\n      <td>0.000000</td>\n      <td>...</td>\n      <td>0.0</td>\n      <td>0.0</td>\n      <td>0.0</td>\n      <td>0.0</td>\n      <td>0.0</td>\n      <td>0.0</td>\n      <td>0.0</td>\n      <td>0.0</td>\n      <td>0.0</td>\n      <td>0.0</td>\n    </tr>\n    <tr>\n      <th>3</th>\n      <td>0.000000</td>\n      <td>0.000000</td>\n      <td>0.00000</td>\n      <td>0.000000</td>\n      <td>0.000000</td>\n      <td>0.000000</td>\n      <td>0.000000</td>\n      <td>0.125680</td>\n      <td>0.000000</td>\n      <td>0.000000</td>\n      <td>...</td>\n      <td>0.0</td>\n      <td>0.0</td>\n      <td>0.0</td>\n      <td>0.0</td>\n      <td>0.0</td>\n      <td>0.0</td>\n      <td>0.0</td>\n      <td>0.0</td>\n      <td>0.0</td>\n      <td>0.0</td>\n    </tr>\n    <tr>\n      <th>4</th>\n      <td>0.000000</td>\n      <td>0.143897</td>\n      <td>0.22286</td>\n      <td>0.000000</td>\n      <td>0.117374</td>\n      <td>0.106635</td>\n      <td>0.108250</td>\n      <td>0.102367</td>\n      <td>0.081928</td>\n      <td>0.000000</td>\n      <td>...</td>\n      <td>0.0</td>\n      <td>0.0</td>\n      <td>0.0</td>\n      <td>0.0</td>\n      <td>0.0</td>\n      <td>0.0</td>\n      <td>0.0</td>\n      <td>0.0</td>\n      <td>0.0</td>\n      <td>0.0</td>\n    </tr>\n    <tr>\n      <th>5</th>\n      <td>0.000000</td>\n      <td>0.000000</td>\n      <td>0.00000</td>\n      <td>0.000000</td>\n      <td>0.000000</td>\n      <td>0.000000</td>\n      <td>0.000000</td>\n      <td>0.139139</td>\n      <td>0.055680</td>\n      <td>0.000000</td>\n      <td>...</td>\n      <td>0.0</td>\n      <td>0.0</td>\n      <td>0.0</td>\n      <td>0.0</td>\n      <td>0.0</td>\n      <td>0.0</td>\n      <td>0.0</td>\n      <td>0.0</td>\n      <td>0.0</td>\n      <td>0.0</td>\n    </tr>\n    <tr>\n      <th>6</th>\n      <td>0.000000</td>\n      <td>0.000000</td>\n      <td>0.00000</td>\n      <td>0.000000</td>\n      <td>0.000000</td>\n      <td>0.000000</td>\n      <td>0.000000</td>\n      <td>0.000000</td>\n      <td>0.048787</td>\n      <td>0.000000</td>\n      <td>...</td>\n      <td>0.0</td>\n      <td>0.0</td>\n      <td>0.0</td>\n      <td>0.0</td>\n      <td>0.0</td>\n      <td>0.0</td>\n      <td>0.0</td>\n      <td>0.0</td>\n      <td>0.0</td>\n      <td>0.0</td>\n    </tr>\n    <tr>\n      <th>7</th>\n      <td>0.000000</td>\n      <td>0.000000</td>\n      <td>0.00000</td>\n      <td>0.000000</td>\n      <td>0.000000</td>\n      <td>0.000000</td>\n      <td>0.000000</td>\n      <td>0.064851</td>\n      <td>0.000000</td>\n      <td>0.000000</td>\n      <td>...</td>\n      <td>0.0</td>\n      <td>0.0</td>\n      <td>0.0</td>\n      <td>0.0</td>\n      <td>0.0</td>\n      <td>0.0</td>\n      <td>0.0</td>\n      <td>0.0</td>\n      <td>0.0</td>\n      <td>0.0</td>\n    </tr>\n    <tr>\n      <th>8</th>\n      <td>0.000000</td>\n      <td>0.000000</td>\n      <td>0.00000</td>\n      <td>0.000000</td>\n      <td>0.000000</td>\n      <td>0.071775</td>\n      <td>0.072863</td>\n      <td>0.000000</td>\n      <td>0.055146</td>\n      <td>0.102990</td>\n      <td>...</td>\n      <td>0.0</td>\n      <td>0.0</td>\n      <td>0.0</td>\n      <td>0.0</td>\n      <td>0.0</td>\n      <td>0.0</td>\n      <td>0.0</td>\n      <td>0.0</td>\n      <td>0.0</td>\n      <td>0.0</td>\n    </tr>\n    <tr>\n      <th>9</th>\n      <td>0.000000</td>\n      <td>0.000000</td>\n      <td>0.00000</td>\n      <td>0.000000</td>\n      <td>0.071745</td>\n      <td>0.000000</td>\n      <td>0.000000</td>\n      <td>0.125144</td>\n      <td>0.000000</td>\n      <td>0.000000</td>\n      <td>...</td>\n      <td>0.0</td>\n      <td>0.0</td>\n      <td>0.0</td>\n      <td>0.0</td>\n      <td>0.0</td>\n      <td>0.0</td>\n      <td>0.0</td>\n      <td>0.0</td>\n      <td>0.0</td>\n      <td>0.0</td>\n    </tr>\n  </tbody>\n</table>\n<p>10 rows × 7842 columns</p>\n</div>"
     },
     "execution_count": 12,
     "metadata": {},
     "output_type": "execute_result"
    }
   ],
   "source": [
    "popular_terms = [term for term, count in vectorizer.vocabulary_.items() if count > 1000]\n",
    "columns = vectorizer.get_feature_names_out()\n",
    "tfidf_model_df = pd.DataFrame.sparse.from_spmatrix(tfidf_model, columns=columns)\n",
    "tfidf_model_df[popular_terms].head(10)"
   ],
   "metadata": {
    "collapsed": false
   }
  },
  {
   "cell_type": "markdown",
   "source": [
    "## Recommending New Video Games\n",
    "\n",
    "- In this section I will build the recommender system using _cosine_ similarity to find similar games.\n",
    "- I will fallow the steps below:\n",
    "    1. Calculate cosine scores for the video games.\n",
    "    2. Using the cosine scores to find the similar games.\n",
    "    3. Writing a function that takes a video game name and can print out the other recommended games.\n",
    "- After these steps we will be able to build a fully-functional content-based recommender system."
   ],
   "metadata": {
    "collapsed": false
   }
  },
  {
   "cell_type": "markdown",
   "source": [
    "### Cosine Similarity\n",
    "- Cosine similarity is a measure of how similar two vectors are to each other. It ranges from -1 (completely dissimilar) to 1 (completely similar). It's often used to compare documents or strings of text, by treating the text as vectors and calculating the cosine similarity between the vectors.\n",
    "- I am going to calculate the cosine similarity between different video games using sklearn's `linear_kernel` function. Tf-idf model will be used in `linear_kernel` function when calculating cosine similarities.\n",
    "##### About `linear_kernel` function\n",
    "- The linear_kernel function is a kernel function that can be used to calculate the dot product of two arrays.\n",
    "- The dot product of two arrays is a measure of the similarity between the arrays.\n",
    "- By dividing the dot product of two arrays by the product of their norms, the linear_kernel function can be used to calculate the cosine similarity between the arrays. Cosine similarity is a measure of similarity between two non-zero vectors of an inner product space that measures the cosine of the angle between them. The resulting value will be between -1 and 1."
   ],
   "metadata": {
    "collapsed": false
   }
  },
  {
   "cell_type": "code",
   "execution_count": 22,
   "outputs": [
    {
     "data": {
      "text/plain": "array([[1.        , 0.06198649, 0.08933478, ..., 0.01940889, 0.01074578,\n        0.        ],\n       [0.06198649, 1.        , 0.01564544, ..., 0.11333223, 0.00779801,\n        0.02948727],\n       [0.08933478, 0.01564544, 1.        , ..., 0.03110616, 0.03023731,\n        0.0016292 ],\n       ...,\n       [0.01940889, 0.11333223, 0.03110616, ..., 1.        , 0.00254007,\n        0.0297193 ],\n       [0.01074578, 0.00779801, 0.03023731, ..., 0.00254007, 1.        ,\n        0.00239216],\n       [0.        , 0.02948727, 0.0016292 , ..., 0.0297193 , 0.00239216,\n        1.        ]])"
     },
     "execution_count": 22,
     "metadata": {},
     "output_type": "execute_result"
    }
   ],
   "source": [
    "cosine_similarity = linear_kernel(tfidf_model, tfidf_model)\n",
    "cosine_similarity"
   ],
   "metadata": {
    "collapsed": false
   }
  },
  {
   "cell_type": "markdown",
   "source": [
    "- Making an `indices` variable to access the game using game's name.\n"
   ],
   "metadata": {
    "collapsed": false
   }
  },
  {
   "cell_type": "code",
   "execution_count": 57,
   "outputs": [
    {
     "data": {
      "text/plain": "12"
     },
     "execution_count": 57,
     "metadata": {},
     "output_type": "execute_result"
    }
   ],
   "source": [
    "indices = pd.Series(filtered.index, index=filtered.name).drop_duplicates()\n",
    "indices['TERA']"
   ],
   "metadata": {
    "collapsed": false
   }
  },
  {
   "cell_type": "markdown",
   "source": [
    "- The \"TERA\" game is located at index 12."
   ],
   "metadata": {
    "collapsed": false
   }
  },
  {
   "cell_type": "markdown",
   "source": [
    "### Building the Recommender Function\n",
    "- Building `get_recommendation` function. This function accepts 4 parameters:\n",
    "    1. `name`: Video game name\n",
    "    2. `top_n`: Number of recommended games you wish to receive.\n",
    "    3. `cosine_sim`: Cosine similarities for the games.\n",
    "    4. `show_genres`: Boolean to additionally show a video game's genre."
   ],
   "metadata": {
    "collapsed": false
   }
  },
  {
   "cell_type": "code",
   "execution_count": 50,
   "outputs": [],
   "source": [
    "def get_recommendation(name, top_n=10, cosine_sim=cosine_similarity, show_genres=False) -> None:\n",
    "    idx = indices[name]\n",
    "    cosine_scores = sorted(enumerate(cosine_sim[idx]), key=lambda x : x[1], reverse=True)\n",
    "    cosine_scores = cosine_scores[1:top_n+1]  # skipping the first as it's the same game as the passed parameter.\n",
    "    game_indexes = [i[0] for i in cosine_scores]\n",
    "    print(f\"If you liked \\\"{name}\\\" you may also like:\")\n",
    "    if show_genres:\n",
    "        display(filtered[['name', 'popular_tags']].iloc[game_indexes])\n",
    "    else:\n",
    "        display(filtered.name.iloc[game_indexes])"
   ],
   "metadata": {
    "collapsed": false
   }
  },
  {
   "cell_type": "code",
   "execution_count": 51,
   "outputs": [
    {
     "name": "stdout",
     "output_type": "stream",
     "text": [
      "If you liked \"Life is Strange 2\" you may also like:\n"
     ]
    },
    {
     "data": {
      "text/plain": "                          name  \\\n799     The Jackbox Party Pack   \n548                   Quiplash   \n456                  Drawful 2   \n263   The Jackbox Party Pack 3   \n3990     Ruckus Ridge VR Party   \n\n                                           popular_tags  \n799   Casual,Local Multiplayer,Funny,Multiplayer,Com...  \n548   Casual,Multiplayer,Comedy,Co-op,Indie,Strategy...  \n456   Casual,Indie,Local Multiplayer,Funny,Strategy,...  \n263   Local Multiplayer,Funny,Casual,Multiplayer,Boa...  \n3990  Action,Indie,VR,4 Player Local,Local Co-Op,Loc...  ",
      "text/html": "<div>\n<style scoped>\n    .dataframe tbody tr th:only-of-type {\n        vertical-align: middle;\n    }\n\n    .dataframe tbody tr th {\n        vertical-align: top;\n    }\n\n    .dataframe thead th {\n        text-align: right;\n    }\n</style>\n<table border=\"1\" class=\"dataframe\">\n  <thead>\n    <tr style=\"text-align: right;\">\n      <th></th>\n      <th>name</th>\n      <th>popular_tags</th>\n    </tr>\n  </thead>\n  <tbody>\n    <tr>\n      <th>799</th>\n      <td>The Jackbox Party Pack</td>\n      <td>Casual,Local Multiplayer,Funny,Multiplayer,Com...</td>\n    </tr>\n    <tr>\n      <th>548</th>\n      <td>Quiplash</td>\n      <td>Casual,Multiplayer,Comedy,Co-op,Indie,Strategy...</td>\n    </tr>\n    <tr>\n      <th>456</th>\n      <td>Drawful 2</td>\n      <td>Casual,Indie,Local Multiplayer,Funny,Strategy,...</td>\n    </tr>\n    <tr>\n      <th>263</th>\n      <td>The Jackbox Party Pack 3</td>\n      <td>Local Multiplayer,Funny,Casual,Multiplayer,Boa...</td>\n    </tr>\n    <tr>\n      <th>3990</th>\n      <td>Ruckus Ridge VR Party</td>\n      <td>Action,Indie,VR,4 Player Local,Local Co-Op,Loc...</td>\n    </tr>\n  </tbody>\n</table>\n</div>"
     },
     "metadata": {},
     "output_type": "display_data"
    }
   ],
   "source": [
    "get_recommendation('Life is Strange 2', top_n=5, show_genres=True)"
   ],
   "metadata": {
    "collapsed": false
   }
  },
  {
   "cell_type": "markdown",
   "source": [
    "### Trying the Recommendation Function"
   ],
   "metadata": {
    "collapsed": false
   }
  },
  {
   "cell_type": "markdown",
   "source": [
    "#### Finding Similar Games to \"Life is Strange 2\"\n",
    "- Life is Strange 2, categories: Story Rich, Adventure, Single player, Third Person, Simulator..."
   ],
   "metadata": {
    "collapsed": false
   }
  },
  {
   "cell_type": "code",
   "execution_count": 58,
   "outputs": [
    {
     "name": "stdout",
     "output_type": "stream",
     "text": [
      "If you liked \"Life is Strange 2\" you may also like:\n"
     ]
    },
    {
     "data": {
      "text/plain": "                               name  \\\n799          The Jackbox Party Pack   \n548                        Quiplash   \n456                       Drawful 2   \n263        The Jackbox Party Pack 3   \n3990          Ruckus Ridge VR Party   \n176                    Pummel Party   \n876                        Among Us   \n5377                     Muddledash   \n143        The Jackbox Party Pack 4   \n27379  Party Saboteurs: After Party   \n\n                                            popular_tags  \n799    Casual,Local Multiplayer,Funny,Multiplayer,Com...  \n548    Casual,Multiplayer,Comedy,Co-op,Indie,Strategy...  \n456    Casual,Indie,Local Multiplayer,Funny,Strategy,...  \n263    Local Multiplayer,Funny,Casual,Multiplayer,Boa...  \n3990   Action,Indie,VR,4 Player Local,Local Co-Op,Loc...  \n176    Multiplayer,Funny,Board Game,Casual,4 Player L...  \n876    Casual,Multiplayer,Local Multiplayer,Space,Onl...  \n5377   Indie,Racing,Casual,Platformer,Local Multiplay...  \n143    Casual,Local Multiplayer,Indie,Funny,Multiplay...  \n27379  Strategy,Indie,Local Multiplayer,Pixel Graphic...  ",
      "text/html": "<div>\n<style scoped>\n    .dataframe tbody tr th:only-of-type {\n        vertical-align: middle;\n    }\n\n    .dataframe tbody tr th {\n        vertical-align: top;\n    }\n\n    .dataframe thead th {\n        text-align: right;\n    }\n</style>\n<table border=\"1\" class=\"dataframe\">\n  <thead>\n    <tr style=\"text-align: right;\">\n      <th></th>\n      <th>name</th>\n      <th>popular_tags</th>\n    </tr>\n  </thead>\n  <tbody>\n    <tr>\n      <th>799</th>\n      <td>The Jackbox Party Pack</td>\n      <td>Casual,Local Multiplayer,Funny,Multiplayer,Com...</td>\n    </tr>\n    <tr>\n      <th>548</th>\n      <td>Quiplash</td>\n      <td>Casual,Multiplayer,Comedy,Co-op,Indie,Strategy...</td>\n    </tr>\n    <tr>\n      <th>456</th>\n      <td>Drawful 2</td>\n      <td>Casual,Indie,Local Multiplayer,Funny,Strategy,...</td>\n    </tr>\n    <tr>\n      <th>263</th>\n      <td>The Jackbox Party Pack 3</td>\n      <td>Local Multiplayer,Funny,Casual,Multiplayer,Boa...</td>\n    </tr>\n    <tr>\n      <th>3990</th>\n      <td>Ruckus Ridge VR Party</td>\n      <td>Action,Indie,VR,4 Player Local,Local Co-Op,Loc...</td>\n    </tr>\n    <tr>\n      <th>176</th>\n      <td>Pummel Party</td>\n      <td>Multiplayer,Funny,Board Game,Casual,4 Player L...</td>\n    </tr>\n    <tr>\n      <th>876</th>\n      <td>Among Us</td>\n      <td>Casual,Multiplayer,Local Multiplayer,Space,Onl...</td>\n    </tr>\n    <tr>\n      <th>5377</th>\n      <td>Muddledash</td>\n      <td>Indie,Racing,Casual,Platformer,Local Multiplay...</td>\n    </tr>\n    <tr>\n      <th>143</th>\n      <td>The Jackbox Party Pack 4</td>\n      <td>Casual,Local Multiplayer,Indie,Funny,Multiplay...</td>\n    </tr>\n    <tr>\n      <th>27379</th>\n      <td>Party Saboteurs: After Party</td>\n      <td>Strategy,Indie,Local Multiplayer,Pixel Graphic...</td>\n    </tr>\n  </tbody>\n</table>\n</div>"
     },
     "metadata": {},
     "output_type": "display_data"
    }
   ],
   "source": [
    "get_recommendation('Life is Strange 2', show_genres=True)"
   ],
   "metadata": {
    "collapsed": false
   }
  },
  {
   "cell_type": "markdown",
   "source": [
    "#### Finding Similar Games to \"Yakuza 0\"\n",
    "- Yakuza 0, categories: Story Rich, Action, Beat 'em up, Great Soundtrack, Open World..."
   ],
   "metadata": {
    "collapsed": false
   }
  },
  {
   "cell_type": "code",
   "execution_count": 59,
   "outputs": [
    {
     "name": "stdout",
     "output_type": "stream",
     "text": [
      "If you liked \"Yakuza 0\" you may also like:\n"
     ]
    },
    {
     "data": {
      "text/plain": "6441                Outlast: Whistleblower DLC\n1626     Resident Evil / biohazard HD REMASTER\n3114             Remothered: Tormented Fathers\n8457      Dead by Daylight - The 80's Suitcase\n14450    Alien: Isolation - Corporate Lockdown\nName: name, dtype: object"
     },
     "metadata": {},
     "output_type": "display_data"
    }
   ],
   "source": [
    "get_recommendation('Yakuza 0', top_n=5)"
   ],
   "metadata": {
    "collapsed": false
   }
  },
  {
   "cell_type": "markdown",
   "source": [
    "## Conclusion\n",
    "- In this notebook we have successfully built a content-based recommender system to recommend video games. Our recommender system relies on cosine similarities between the games to efficiently recommend video games.\n",
    "- In this notebook, we covered the following:\n",
    "    * what are recommender systems\n",
    "    * what are collaborative and content-based recommendation\n",
    "    * what is TF-IDF and how it is used for recommender systems\n",
    "    * what is cosine similarity and how it is used for recommender systems\n",
    "    * how to recommend video games based on a video game name"
   ],
   "metadata": {
    "collapsed": false
   }
  }
 ],
 "metadata": {
  "kernelspec": {
   "display_name": "Python 3",
   "language": "python",
   "name": "python3"
  },
  "language_info": {
   "codemirror_mode": {
    "name": "ipython",
    "version": 2
   },
   "file_extension": ".py",
   "mimetype": "text/x-python",
   "name": "python",
   "nbconvert_exporter": "python",
   "pygments_lexer": "ipython2",
   "version": "2.7.6"
  }
 },
 "nbformat": 4,
 "nbformat_minor": 0
}
